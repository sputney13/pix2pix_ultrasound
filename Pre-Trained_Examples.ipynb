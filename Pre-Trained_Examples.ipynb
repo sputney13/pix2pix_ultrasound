{
 "cells": [
  {
   "cell_type": "code",
   "execution_count": null,
   "metadata": {},
   "outputs": [],
   "source": [
    "!pip3 uninstall tensorflow_datasets\n",
    "!pip3 install git+git://github.com/sputney13/datasets"
   ]
  },
  {
   "cell_type": "code",
   "execution_count": null,
   "metadata": {},
   "outputs": [],
   "source": [
    "import tensorflow\n",
    "import tensorflow_datasets as tfds\n",
    "import numpy\n",
    "import os\n",
    "import matplotlib\n",
    "import sklearn\n",
    "\n",
    "from trainer.models import unet, patchGAN\n",
    "from trainer.utils import edges_2_shoes, cityscapes, oasbud, training_utils"
   ]
  },
  {
   "cell_type": "markdown",
   "metadata": {},
   "source": [
    "## Edges2Shoes Image Generation"
   ]
  },
  {
   "cell_type": "code",
   "execution_count": null,
   "metadata": {},
   "outputs": [],
   "source": [
    "_, example_data = edges_2_shoes.create_dataset(4)"
   ]
  },
  {
   "cell_type": "code",
   "execution_count": null,
   "metadata": {},
   "outputs": [],
   "source": [
    "shoes_generator = tf.keras.models.load_model('trained_models/edge_2_shoe_generator.h5')"
   ]
  },
  {
   "cell_type": "code",
   "execution_count": null,
   "metadata": {},
   "outputs": [],
   "source": [
    "for input_image, target in example_data.take(5):\n",
    "    training_utils.generate_images(shoes_generator, input_image, target)"
   ]
  },
  {
   "cell_type": "markdown",
   "metadata": {},
   "source": [
    "## Cityscapes Image Generation"
   ]
  },
  {
   "cell_type": "code",
   "execution_count": null,
   "metadata": {},
   "outputs": [],
   "source": [
    "_, example_data = cityscapes.create_dataset(1)"
   ]
  },
  {
   "cell_type": "code",
   "execution_count": null,
   "metadata": {},
   "outputs": [],
   "source": [
    "cityscape_generator = tf.keras.models.load_model('trained_models/cityscapes_generator.h5')"
   ]
  },
  {
   "cell_type": "code",
   "execution_count": null,
   "metadata": {},
   "outputs": [],
   "source": [
    "for input_image, target in example_data.take(5):\n",
    "    training_utils.generate_images(cityscape_generator, input_image, target)"
   ]
  },
  {
   "cell_type": "markdown",
   "metadata": {},
   "source": [
    "## OASBUD Image Generation"
   ]
  },
  {
   "cell_type": "code",
   "execution_count": null,
   "metadata": {},
   "outputs": [],
   "source": [
    "dataset = tfds.load('oasbud/b_mode') # not yet merged into Tensorflow Datasets, must install @sputney13 git version"
   ]
  },
  {
   "cell_type": "code",
   "execution_count": null,
   "metadata": {},
   "outputs": [],
   "source": [
    "bmode_ds = oasbud.process_oasbud_for_gan(dataset)"
   ]
  },
  {
   "cell_type": "code",
   "execution_count": null,
   "metadata": {},
   "outputs": [],
   "source": [
    "oasbud_generator = tf.keras.models.load_model('trained_models/oasbud_generator.h5')"
   ]
  },
  {
   "cell_type": "code",
   "execution_count": null,
   "metadata": {},
   "outputs": [],
   "source": [
    "for input_image, target in bmode_ds.take(5):\n",
    "    training_utils.generate_images(oasbud_generator, input_image, target)"
   ]
  },
  {
   "cell_type": "markdown",
   "metadata": {},
   "source": [
    "## OASBUD Classification"
   ]
  },
  {
   "cell_type": "markdown",
   "metadata": {},
   "source": [
    "#### Without Augmentation"
   ]
  },
  {
   "cell_type": "code",
   "execution_count": null,
   "metadata": {},
   "outputs": [],
   "source": [
    "bmode_train, bmode_test = oasbud.process_oasbud_for_classification(dataset)"
   ]
  },
  {
   "cell_type": "code",
   "execution_count": null,
   "metadata": {},
   "outputs": [],
   "source": [
    "## THE FOLLOWING MODEL WAS TRAINED USING:\n",
    "\n",
    "# inputs = tf.keras.Input(shape=[1024, 512, 1])\n",
    "# efficient_net = tf.keras.applications.EfficientNetB0(weights = None, input_tensor=inputs, classes = 2)(inputs)\n",
    "# model = tf.keras.Model(inputs, efficient_net)\n",
    "# model.compile(optimizer=\"adam\", loss=\"binary_crossentropy\")\n",
    "# model.fit(bmode_train, epochs=20, validation_data=bmode_test)"
   ]
  },
  {
   "cell_type": "code",
   "execution_count": null,
   "metadata": {},
   "outputs": [],
   "source": [
    "efficient_net = tf.keras.models.load_model('trained_models/efficientnet_no_aug.h5')"
   ]
  },
  {
   "cell_type": "code",
   "execution_count": null,
   "metadata": {},
   "outputs": [],
   "source": [
    "X_test = bmode_test.map(lambda X_test, y_test: X_test)\n",
    "y_test = bmode_test.map(lambda X_test, y_test: y_test)"
   ]
  },
  {
   "cell_type": "code",
   "execution_count": null,
   "metadata": {},
   "outputs": [],
   "source": [
    "labels = [tf.argmax(x).numpy() for x in y_test]\n",
    "preds = [tf.argmax(x).numpy() for x in efficient_net.predict(X_test)]\n",
    "accuracy = sum(np.equals(labels, preds)) / len(y_test)\n",
    "print(accuracy)"
   ]
  },
  {
   "cell_type": "markdown",
   "metadata": {},
   "source": [
    "#### With Augmentation"
   ]
  },
  {
   "cell_type": "code",
   "execution_count": null,
   "metadata": {},
   "outputs": [],
   "source": [
    "benign_generator = tf.keras.models.load_model('trained_models/benign_generator.h5')\n",
    "malignant_generator = tf.keras.models.load_model('trained_models/malignant_generator.h5')"
   ]
  },
  {
   "cell_type": "code",
   "execution_count": null,
   "metadata": {},
   "outputs": [],
   "source": [
    "bmode_train, bmode_test = oasbud.process_oasbud_for_classification_with_aug(dataset, benign_generator, malignant_generator)"
   ]
  },
  {
   "cell_type": "code",
   "execution_count": null,
   "metadata": {},
   "outputs": [],
   "source": [
    "## THE FOLLOWING MODEL WAS TRAINED USING:\n",
    "\n",
    "# inputs = tf.keras.Input(shape=[1024, 512, 1])\n",
    "# efficient_net = tf.keras.applications.EfficientNetB0(weights = None, input_tensor=inputs, classes = 2)(inputs)\n",
    "# model = tf.keras.Model(inputs, efficient_net)\n",
    "# model.compile(optimizer=\"adam\", loss=\"binary_crossentropy\")\n",
    "# model.fit(bmode_train, epochs=20, validation_data=bmode_test)"
   ]
  },
  {
   "cell_type": "code",
   "execution_count": null,
   "metadata": {},
   "outputs": [],
   "source": [
    "efficient_net = tf.keras.models.load_model('trained_models/efficient_net_aug.h5')"
   ]
  },
  {
   "cell_type": "code",
   "execution_count": null,
   "metadata": {},
   "outputs": [],
   "source": [
    "X_test = bmode_test.map(lambda X_test, y_test: X_test)\n",
    "y_test = bmode_test.map(lambda X_test, y_test: y_test)"
   ]
  },
  {
   "cell_type": "code",
   "execution_count": null,
   "metadata": {},
   "outputs": [],
   "source": [
    "labels = [tf.argmax(x).numpy() for x in y_test]\n",
    "preds = [tf.argmax(x).numpy() for x in efficient_net.predict(X_test)]\n",
    "accuracy = sum(np.equals(labels, preds)) / len(y_test)\n",
    "print(accuracy)"
   ]
  },
  {
   "cell_type": "markdown",
   "metadata": {},
   "source": [
    "## OASBUD Segmentation"
   ]
  },
  {
   "cell_type": "markdown",
   "metadata": {},
   "source": [
    "#### Without Augmentation"
   ]
  },
  {
   "cell_type": "code",
   "execution_count": null,
   "metadata": {},
   "outputs": [],
   "source": [
    "bmode_train, bmode_test = oasbud.process_oasbud_for_segmentation(dataset)"
   ]
  },
  {
   "cell_type": "code",
   "execution_count": null,
   "metadata": {},
   "outputs": [],
   "source": [
    "## THE FOLLOWING MODEL WAS TRAINED USING:\n",
    "\n",
    "# unet = unet.UNet(output_channels = 2)\n",
    "# unet.compile(optimizer='adam', loss=tf.keras.losses.SparseCategoricalCrossentropy(from_logits=True))\n",
    "# unet.fit(bmode_train, epochs=6, validation_data=bmode_test)"
   ]
  },
  {
   "cell_type": "code",
   "execution_count": null,
   "metadata": {},
   "outputs": [],
   "source": [
    "unet = tf.keras.models.load_model('trained_models/unet_no_aug.h5')"
   ]
  },
  {
   "cell_type": "code",
   "execution_count": null,
   "metadata": {},
   "outputs": [],
   "source": [
    "for input_image, mask in bmode_test.take(5):\n",
    "    training_utils.generate_images(unet, input_image, mask)"
   ]
  },
  {
   "cell_type": "markdown",
   "metadata": {},
   "source": [
    "#### With Augmentation"
   ]
  },
  {
   "cell_type": "code",
   "execution_count": null,
   "metadata": {},
   "outputs": [],
   "source": [
    "oasbud_generator = tf.keras.models.load_model('trained_models/oasbud_generator.h5')"
   ]
  },
  {
   "cell_type": "code",
   "execution_count": null,
   "metadata": {},
   "outputs": [],
   "source": [
    "bmode_train, bmode_test = oasbud.process_oasbud_for_segmentation_with_aug(dataset, oasbud_generator)"
   ]
  },
  {
   "cell_type": "code",
   "execution_count": null,
   "metadata": {},
   "outputs": [],
   "source": [
    "## THE FOLLOWING MODEL WAS TRAINED USING:\n",
    "\n",
    "# unet = unet.UNet(output_channels = 2)\n",
    "# unet.compile(optimizer='adam', loss=tf.keras.losses.SparseCategoricalCrossentropy(from_logits=True))\n",
    "# unet.fit(bmode_train, epochs=6, validation_data=bmode_test)"
   ]
  },
  {
   "cell_type": "code",
   "execution_count": null,
   "metadata": {},
   "outputs": [],
   "source": [
    "unet = tf.keras.models.load_model('trained_models/unet_aug.h5')"
   ]
  },
  {
   "cell_type": "code",
   "execution_count": null,
   "metadata": {},
   "outputs": [],
   "source": [
    "for input_image, mask in bmode_test.take(5):\n",
    "    training_utils.generate_images(unet, input_image, mask)"
   ]
  }
 ],
 "metadata": {
  "kernelspec": {
   "display_name": "Python 3",
   "language": "python",
   "name": "python3"
  },
  "language_info": {
   "codemirror_mode": {
    "name": "ipython",
    "version": 3
   },
   "file_extension": ".py",
   "mimetype": "text/x-python",
   "name": "python",
   "nbconvert_exporter": "python",
   "pygments_lexer": "ipython3",
   "version": "3.7.6"
  }
 },
 "nbformat": 4,
 "nbformat_minor": 4
}
