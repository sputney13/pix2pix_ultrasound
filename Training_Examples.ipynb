{
 "cells": [
  {
   "cell_type": "code",
   "execution_count": null,
   "metadata": {},
   "outputs": [],
   "source": [
    "!pip3 uninstall tensorflow_datasets\n",
    "!pip3 install git+git://github.com/sputney13/datasets"
   ]
  },
  {
   "cell_type": "code",
   "execution_count": null,
   "metadata": {},
   "outputs": [],
   "source": [
    "import tensorflow\n",
    "import tensorflow_datasets as tfds\n",
    "import numpy\n",
    "import os\n",
    "import matplotlib\n",
    "import sklearn\n",
    "\n",
    "from trainer.models import unet, patchGAN\n",
    "from trainer.utils import edges_2_shoes, cityscapes, oasbud, training_utils"
   ]
  },
  {
   "cell_type": "markdown",
   "metadata": {},
   "source": [
    "## Edges2Shoes"
   ]
  },
  {
   "cell_type": "code",
   "execution_count": null,
   "metadata": {},
   "outputs": [],
   "source": [
    "train_ds, test_ds = edges_2_shoes.create_dataset(4)"
   ]
  },
  {
   "cell_type": "code",
   "execution_count": null,
   "metadata": {},
   "outputs": [],
   "source": [
    "generator = unet.UNet(out_channels = 3)\n",
    "discriminator = patchGAN.PatchGAN()"
   ]
  },
  {
   "cell_type": "code",
   "execution_count": null,
   "metadata": {},
   "outputs": [],
   "source": [
    "# Train for 1 epoch just to see a result - increase the 1 -> 15 to see increased performance\n",
    "trained_gen, trained_disc = training_utils.fit(train_ds, generator, discriminator, 1, test_ds)"
   ]
  },
  {
   "cell_type": "code",
   "execution_count": null,
   "metadata": {},
   "outputs": [],
   "source": [
    "for input_image, target in test_ds.take(3):\n",
    "    training_utils.generate_images(trained_gen, input_image, target)"
   ]
  },
  {
   "cell_type": "markdown",
   "metadata": {},
   "source": [
    "## Cityscapes"
   ]
  },
  {
   "cell_type": "code",
   "execution_count": null,
   "metadata": {},
   "outputs": [],
   "source": [
    "train_ds, test_ds = cityscapes.create_dataset()"
   ]
  },
  {
   "cell_type": "code",
   "execution_count": null,
   "metadata": {},
   "outputs": [],
   "source": [
    "generator = unet.UNet(out_channels = 3)\n",
    "discriminator = patchGAN.PatchGAN()"
   ]
  },
  {
   "cell_type": "code",
   "execution_count": null,
   "metadata": {},
   "outputs": [],
   "source": [
    "# Train for 5 epochs just to see a result - increase the 5 -> 200 to see increased performance\n",
    "trained_gen, trained_disc = training_utils.fit(train_ds, generator, discriminator, 5, test_ds)"
   ]
  },
  {
   "cell_type": "code",
   "execution_count": null,
   "metadata": {},
   "outputs": [],
   "source": [
    "for input_image, target in test_ds.take(3):\n",
    "    training_utils.generate_images(trained_gen, input_image, target)"
   ]
  },
  {
   "cell_type": "markdown",
   "metadata": {},
   "source": [
    "## OASBUD"
   ]
  },
  {
   "cell_type": "code",
   "execution_count": null,
   "metadata": {},
   "outputs": [],
   "source": [
    "dataset = tfds.load('oasbud/b_mode') # not yet merged into Tensorflow Datasets, must install @sputney13 git version"
   ]
  },
  {
   "cell_type": "markdown",
   "metadata": {},
   "source": [
    "#### Train on Whole Set"
   ]
  },
  {
   "cell_type": "code",
   "execution_count": null,
   "metadata": {},
   "outputs": [],
   "source": [
    "bmode_ds = process_oasbud_for_gan(dataset)"
   ]
  },
  {
   "cell_type": "code",
   "execution_count": null,
   "metadata": {},
   "outputs": [],
   "source": [
    "generator = unet.UNet(out_channels = 1)\n",
    "discriminator = patchGAN.PatchGAN()"
   ]
  },
  {
   "cell_type": "code",
   "execution_count": null,
   "metadata": {},
   "outputs": [],
   "source": [
    "# Train for 5 epochs just to see a result - increase the 5 -> 120 to see increased performance\n",
    "trained_gen, trained_disc = training_utils.fit(bmode_ds, generator, discriminator, 5, LAMBDA = 50)"
   ]
  },
  {
   "cell_type": "code",
   "execution_count": null,
   "metadata": {},
   "outputs": [],
   "source": [
    "for input_image, target in bmode_ds.take(3):\n",
    "    training_utils.generate_images(trained_gen, input_image, target)"
   ]
  },
  {
   "cell_type": "markdown",
   "metadata": {},
   "source": [
    "#### Train by Class"
   ]
  },
  {
   "cell_type": "code",
   "execution_count": null,
   "metadata": {},
   "outputs": [],
   "source": [
    "malignant_ds, benign_ds = process_oasbud_for_gan_by_class(dataset)"
   ]
  },
  {
   "cell_type": "markdown",
   "metadata": {},
   "source": [
    "Malignant GAN"
   ]
  },
  {
   "cell_type": "code",
   "execution_count": null,
   "metadata": {},
   "outputs": [],
   "source": [
    "generator = unet.UNet(out_channels = 1)\n",
    "discriminator = patchGAN.PatchGAN()"
   ]
  },
  {
   "cell_type": "code",
   "execution_count": null,
   "metadata": {},
   "outputs": [],
   "source": [
    "# Train for 5 epochs just to see a result - increase the 5 -> 120 to see increased performance\n",
    "mal_gen, mal_disc = training_utils.fit(malignant_ds, generator, discriminator, 5, LAMBDA = 50)"
   ]
  },
  {
   "cell_type": "code",
   "execution_count": null,
   "metadata": {},
   "outputs": [],
   "source": [
    "for input_image, target in malignant_ds.take(3):\n",
    "    training_utils.generate_images(mal_gen, input_image, target)"
   ]
  },
  {
   "cell_type": "markdown",
   "metadata": {},
   "source": [
    "Benign GAN"
   ]
  },
  {
   "cell_type": "code",
   "execution_count": null,
   "metadata": {},
   "outputs": [],
   "source": [
    "generator = unet.UNet(out_channels = 1)\n",
    "discriminator = patchGAN.PatchGAN()"
   ]
  },
  {
   "cell_type": "code",
   "execution_count": null,
   "metadata": {},
   "outputs": [],
   "source": [
    "# Train for 5 epochs just to see a result - increase the 5 -> 120 to see increased performance\n",
    "ben_gen, ben_disc = training_utils.fit(benign_ds, generator, discriminator, 5, LAMBDA = 50)"
   ]
  },
  {
   "cell_type": "code",
   "execution_count": null,
   "metadata": {},
   "outputs": [],
   "source": [
    "for input_image, target in benign_ds.take(3):\n",
    "    training_utils.generate_images(benign_gen, input_image, target)"
   ]
  }
 ],
 "metadata": {
  "kernelspec": {
   "display_name": "Python 3",
   "language": "python",
   "name": "python3"
  },
  "language_info": {
   "codemirror_mode": {
    "name": "ipython",
    "version": 3
   },
   "file_extension": ".py",
   "mimetype": "text/x-python",
   "name": "python",
   "nbconvert_exporter": "python",
   "pygments_lexer": "ipython3",
   "version": "3.7.6"
  }
 },
 "nbformat": 4,
 "nbformat_minor": 4
}
